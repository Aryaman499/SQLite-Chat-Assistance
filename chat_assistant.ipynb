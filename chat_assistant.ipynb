{
  "nbformat": 4,
  "nbformat_minor": 0,
  "metadata": {
    "colab": {
      "provenance": []
    },
    "kernelspec": {
      "name": "python3",
      "display_name": "Python 3"
    },
    "language_info": {
      "name": "python"
    }
  },
  "cells": [
    {
      "cell_type": "markdown",
      "source": [
        "Importing Sqlite"
      ],
      "metadata": {
        "id": "mE2BvBLyNHks"
      }
    },
    {
      "cell_type": "code",
      "source": [
        "import sqlite3"
      ],
      "metadata": {
        "id": "eu4GFW-ihqNV"
      },
      "execution_count": null,
      "outputs": []
    },
    {
      "cell_type": "markdown",
      "source": [
        "Creating Database"
      ],
      "metadata": {
        "id": "f9AJ8ckBNNCe"
      }
    },
    {
      "cell_type": "code",
      "source": [
        "# Connect to SQLite database\n",
        "conn = sqlite3.connect('company.db')\n",
        "cursor = conn.cursor()\n",
        "\n",
        "# Create Employees table\n",
        "cursor.execute('''\n",
        "    CREATE TABLE IF NOT EXISTS Employees (\n",
        "        ID INTEGER PRIMARY KEY,\n",
        "        Name TEXT,\n",
        "        Department TEXT,\n",
        "        Salary INTEGER,\n",
        "        Hire_Date TEXT\n",
        "    )\n",
        "''')\n",
        "\n",
        "# Create Departments table\n",
        "cursor.execute('''\n",
        "    CREATE TABLE IF NOT EXISTS Departments (\n",
        "        ID INTEGER PRIMARY KEY,\n",
        "        Name TEXT,\n",
        "        Manager TEXT\n",
        "    )\n",
        "''')\n",
        "\n",
        "# Commiting changes\n",
        "conn.commit()"
      ],
      "metadata": {
        "id": "iZWDrksV8UL_"
      },
      "execution_count": null,
      "outputs": []
    },
    {
      "cell_type": "markdown",
      "source": [
        "Inserting Values In Database"
      ],
      "metadata": {
        "id": "SGjNRu7eNQwW"
      }
    },
    {
      "cell_type": "code",
      "source": [
        "# Insert data into Employees table\n",
        "employees_data = [\n",
        "    (1, 'Alice', 'Sales', 50000, '2021-01-15'),\n",
        "    (2, 'Bob', 'Engineering', 70000, '2020-06-10'),\n",
        "    (3, 'Charlie', 'Marketing', 60000, '2022-03-20')\n",
        "]\n",
        "cursor.executemany('INSERT INTO Employees VALUES (?, ?, ?, ?, ?)', employees_data)\n",
        "\n",
        "# Insert data into Departments table\n",
        "departments_data = [\n",
        "    (1, 'Sales', 'Alice'),\n",
        "    (2, 'Engineering', 'Bob'),\n",
        "    (3, 'Marketing', 'Charlie')\n",
        "]\n",
        "cursor.executemany('INSERT INTO Departments VALUES (?, ?, ?)', departments_data)\n",
        "\n",
        "# Commiting changes\n",
        "conn.commit()"
      ],
      "metadata": {
        "id": "YuxQ-PbX8XKF"
      },
      "execution_count": null,
      "outputs": []
    },
    {
      "cell_type": "markdown",
      "source": [
        "Parsing SQL Query"
      ],
      "metadata": {
        "id": "FPYJuddoNaXK"
      }
    },
    {
      "cell_type": "code",
      "source": [
        "def parse_query(query):\n",
        "    query = query.lower()\n",
        "    if \"show me all employees in the\" in query:\n",
        "        department = query.split(\"department\")[0].split()[-1]\n",
        "        return f\"SELECT * FROM Employees WHERE Department = '{department.capitalize()}'\"\n",
        "    elif \"who is the manager of the\" in query:\n",
        "        department = query.split(\"department\")[0].split()[-1]\n",
        "        return f\"SELECT Manager FROM Departments WHERE Name = '{department.capitalize()}'\"\n",
        "    elif \"list all employees hired after\" in query:\n",
        "        date = query.split(\"after\")[1].strip()\n",
        "        return f\"SELECT * FROM Employees WHERE Hire_Date > '{date}'\"\n",
        "    elif \"what is the total salary expense for the\" in query:\n",
        "        department = query.split(\"department\")[0].split()[-1]\n",
        "        return f\"SELECT SUM(Salary) FROM Employees WHERE Department = '{department.capitalize()}'\"\n",
        "    else:\n",
        "        return None"
      ],
      "metadata": {
        "id": "jWOI4M5H8baj"
      },
      "execution_count": null,
      "outputs": []
    },
    {
      "cell_type": "markdown",
      "source": [
        "Executing Query"
      ],
      "metadata": {
        "id": "GNLiJNVfNj3B"
      }
    },
    {
      "cell_type": "code",
      "source": [
        "def execute_query(query):\n",
        "    cursor.execute(query)\n",
        "    return cursor.fetchall()"
      ],
      "metadata": {
        "id": "uE8UYuB-8rd6"
      },
      "execution_count": null,
      "outputs": []
    },
    {
      "cell_type": "markdown",
      "source": [
        "Format and Display Results:"
      ],
      "metadata": {
        "id": "DdqmUprk9g-T"
      }
    },
    {
      "cell_type": "code",
      "source": [
        "def format_response(results):\n",
        "    if not results:\n",
        "        return \"No results found.\"\n",
        "    return \"\\n\".join([str(row) for row in results])"
      ],
      "metadata": {
        "id": "ERFlO0xR82td"
      },
      "execution_count": null,
      "outputs": []
    },
    {
      "cell_type": "markdown",
      "source": [
        "Combining Everything"
      ],
      "metadata": {
        "id": "uStBdnWa94V3"
      }
    },
    {
      "cell_type": "code",
      "source": [
        "def chat_assistant(query):\n",
        "    sql_query = parse_query(query)\n",
        "    if sql_query:\n",
        "        results = execute_query(sql_query)\n",
        "        return format_response(results)\n",
        "    else:\n",
        "        return \"Sorry, I couldn't understand your query.\""
      ],
      "metadata": {
        "id": "fy5d9pqU9sPb"
      },
      "execution_count": null,
      "outputs": []
    },
    {
      "cell_type": "markdown",
      "source": [
        "Testing the Chat Assistant"
      ],
      "metadata": {
        "id": "BhJKAHkS-D9V"
      }
    },
    {
      "cell_type": "code",
      "source": [
        "print(chat_assistant(\"Show me all employees in the Sales department\"))\n",
        "print(chat_assistant(\"Who is the manager of the Engineering department?\"))\n",
        "print(chat_assistant(\"List all employees hired after 2021-01-01\"))\n",
        "print(chat_assistant(\"What is the total salary expense for the Marketing department?\"))"
      ],
      "metadata": {
        "colab": {
          "base_uri": "https://localhost:8080/"
        },
        "id": "aMyHJLGW97uA",
        "outputId": "f42258db-dd81-45f7-a9ab-8f637b1c1c81"
      },
      "execution_count": null,
      "outputs": [
        {
          "output_type": "stream",
          "name": "stdout",
          "text": [
            "(1, 'Alice', 'Sales', 50000, '2021-01-15')\n",
            "('Bob',)\n",
            "(1, 'Alice', 'Sales', 50000, '2021-01-15')\n",
            "(3, 'Charlie', 'Marketing', 60000, '2022-03-20')\n",
            "(60000,)\n"
          ]
        }
      ]
    },
    {
      "cell_type": "code",
      "source": [],
      "metadata": {
        "id": "lkMRB85Q-HmO"
      },
      "execution_count": null,
      "outputs": []
    }
  ]
}